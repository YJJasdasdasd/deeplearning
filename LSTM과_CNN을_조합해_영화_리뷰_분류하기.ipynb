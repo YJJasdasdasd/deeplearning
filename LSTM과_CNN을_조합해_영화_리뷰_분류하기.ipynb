{
  "nbformat": 4,
  "nbformat_minor": 0,
  "metadata": {
    "colab": {
      "provenance": [],
      "authorship_tag": "ABX9TyNaYSjl+lbuCb1QcnuBfNiY",
      "include_colab_link": true
    },
    "kernelspec": {
      "name": "python3",
      "display_name": "Python 3"
    },
    "language_info": {
      "name": "python"
    }
  },
  "cells": [
    {
      "cell_type": "markdown",
      "metadata": {
        "id": "view-in-github",
        "colab_type": "text"
      },
      "source": [
        "<a href=\"https://colab.research.google.com/github/YJJasdasdasd/deeplearning/blob/master/LSTM%EA%B3%BC_CNN%EC%9D%84_%EC%A1%B0%ED%95%A9%ED%95%B4_%EC%98%81%ED%99%94_%EB%A6%AC%EB%B7%B0_%EB%B6%84%EB%A5%98%ED%95%98%EA%B8%B0.ipynb\" target=\"_parent\"><img src=\"https://colab.research.google.com/assets/colab-badge.svg\" alt=\"Open In Colab\"/></a>"
      ]
    },
    {
      "cell_type": "code",
      "execution_count": 2,
      "metadata": {
        "id": "ZJz4Q3tVJB_6"
      },
      "outputs": [],
      "source": [
        "from tensorflow.keras.models import Sequential\n",
        "from tensorflow.keras.layers import Dense, Dropout, Activation, Embedding, LSTM, Conv1D, MaxPooling1D\n",
        "from tensorflow.keras.datasets import imdb\n",
        "from tensorflow.keras.preprocessing import sequence\n",
        "from tensorflow.keras.callbacks import EarlyStopping\n",
        "import numpy as np\n",
        "import matplotlib.pyplot as plt"
      ]
    },
    {
      "cell_type": "code",
      "source": [
        "# 데이터를 불러와 학습셋, 테스트셋으로 나눕니다.\n",
        "(x_train, y_train), (x_test, y_test) = imdb.load_data(num_words=5000)"
      ],
      "metadata": {
        "colab": {
          "base_uri": "https://localhost:8080/"
        },
        "id": "TL-p0_xAJQZO",
        "outputId": "3b948a4f-e1cf-4b20-889c-2aa7531c0f94"
      },
      "execution_count": 3,
      "outputs": [
        {
          "output_type": "stream",
          "name": "stdout",
          "text": [
            "Downloading data from https://storage.googleapis.com/tensorflow/tf-keras-datasets/imdb.npz\n",
            "17464789/17464789 [==============================] - 1s 0us/step\n"
          ]
        }
      ]
    },
    {
      "cell_type": "code",
      "source": [
        "# 단어의 수를 맞춥니다.\n",
        "x_train = sequence.pad_sequences(x_train, maxlen=500)\n",
        "x_test = sequence.pad_sequences(x_test, maxlen=500)"
      ],
      "metadata": {
        "id": "yUOHJAZIKYEi"
      },
      "execution_count": 4,
      "outputs": []
    },
    {
      "cell_type": "code",
      "source": [
        "# 모델의 구조를 설정합니다.\n",
        "model = Sequential()\n",
        "model.add(Embedding(5000, 100))\n",
        "model.add(Dropout(0.5))\n",
        "model.add(Conv1D(64, 5, padding='valid', activation = 'relu', strides=1))\n",
        "model.add(MaxPooling1D(pool_size=4))\n",
        "model.add(LSTM(55))\n",
        "model.add(Dense(1))\n",
        "model.add(Activation('sigmoid'))"
      ],
      "metadata": {
        "id": "Q8QWXSJ7Ki2R"
      },
      "execution_count": 5,
      "outputs": []
    },
    {
      "cell_type": "code",
      "source": [
        "# 모델의 실행 옵션을 정합니다.\n",
        "model.compile(loss='binary_crossentropy', optimizer='adam', metrics=['accuracy'])"
      ],
      "metadata": {
        "id": "2kevpby6LUBz"
      },
      "execution_count": 6,
      "outputs": []
    },
    {
      "cell_type": "code",
      "source": [
        "# 학습의 조기 중단을 설정합니다.\n",
        "stop = EarlyStopping(monitor='val_loss', patience=3)"
      ],
      "metadata": {
        "id": "y7KJ-VNYLpVt"
      },
      "execution_count": 7,
      "outputs": []
    },
    {
      "cell_type": "code",
      "source": [
        "#모델을 실행합니다.\n",
        "history = model.fit(x_train, y_train, batch_size=40, epochs=100, validation_split=0.25, callbacks=[stop])"
      ],
      "metadata": {
        "colab": {
          "base_uri": "https://localhost:8080/"
        },
        "id": "P4YxBOSYLzCq",
        "outputId": "0bf70529-bfea-4995-e9a8-21774be9f1fa"
      },
      "execution_count": 8,
      "outputs": [
        {
          "output_type": "stream",
          "name": "stdout",
          "text": [
            "Epoch 1/100\n",
            "469/469 [==============================] - 120s 250ms/step - loss: 0.4081 - accuracy: 0.7959 - val_loss: 0.2923 - val_accuracy: 0.8818\n",
            "Epoch 2/100\n",
            "469/469 [==============================] - 120s 257ms/step - loss: 0.2326 - accuracy: 0.9077 - val_loss: 0.2599 - val_accuracy: 0.8920\n",
            "Epoch 3/100\n",
            "469/469 [==============================] - 114s 243ms/step - loss: 0.1816 - accuracy: 0.9316 - val_loss: 0.2847 - val_accuracy: 0.8882\n",
            "Epoch 4/100\n",
            "469/469 [==============================] - 116s 247ms/step - loss: 0.1490 - accuracy: 0.9469 - val_loss: 0.2967 - val_accuracy: 0.8818\n",
            "Epoch 5/100\n",
            "469/469 [==============================] - 114s 244ms/step - loss: 0.1127 - accuracy: 0.9598 - val_loss: 0.3439 - val_accuracy: 0.8822\n"
          ]
        }
      ]
    },
    {
      "cell_type": "code",
      "source": [
        "# 테스트 정확도를 출력합니다.\n",
        "print(\"\\n Test Accuracy: %.4f\" % (model.evaluate(x_test, y_test)[1]))"
      ],
      "metadata": {
        "colab": {
          "base_uri": "https://localhost:8080/"
        },
        "id": "shc_NunnMKa5",
        "outputId": "e4b91169-8a67-4802-8698-0d173149a68d"
      },
      "execution_count": 9,
      "outputs": [
        {
          "output_type": "stream",
          "name": "stdout",
          "text": [
            "782/782 [==============================] - 46s 59ms/step - loss: 0.3655 - accuracy: 0.8802\n",
            "\n",
            " Test Accuracy: 0.8802\n"
          ]
        }
      ]
    },
    {
      "cell_type": "code",
      "source": [
        "# 검증셋과 학습셋의 오차를 저장합니다.\n",
        "y_vloss = history.history['val_loss']\n",
        "y_loss = history.history['loss']"
      ],
      "metadata": {
        "id": "qmjee7ZuM0uu"
      },
      "execution_count": 10,
      "outputs": []
    },
    {
      "cell_type": "code",
      "source": [
        "# 그래프로 표현해 보겠습니다.\n",
        "x_len = np.arange(len(y_loss))\n",
        "plt.plot(x_len, y_vloss, marker = '.', c='red', label='Testset_loss')\n",
        "plt.plot(x_len, y_loss, marker='.', c = 'blue', label='Treainset_loss')\n",
        "# 그래프에 그리드를 주고 레이블을 표시하겠습니다.\n",
        "plt.legend(loc='upper right')\n",
        "plt.grid()\n",
        "plt.xlabel('epoch')\n",
        "plt.ylabel('loss')\n",
        "plt.show()"
      ],
      "metadata": {
        "colab": {
          "base_uri": "https://localhost:8080/",
          "height": 279
        },
        "id": "VmKFzbBiPSir",
        "outputId": "853eb5dc-a28b-4d09-a5e4-e58d917d6046"
      },
      "execution_count": 11,
      "outputs": [
        {
          "output_type": "display_data",
          "data": {
            "text/plain": [
              "<Figure size 432x288 with 1 Axes>"
            ],
            "image/png": "[encoded data removed]"
          },
          "metadata": {
            "needs_background": "light"
          }
        }
      ]
    },
    {
      "cell_type": "code",
      "source": [],
      "metadata": {
        "id": "vGUfDUgBPfAm"
      },
      "execution_count": null,
      "outputs": []
    }
  ]
}