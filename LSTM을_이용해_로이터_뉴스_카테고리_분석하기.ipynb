{
  "nbformat": 4,
  "nbformat_minor": 0,
  "metadata": {
    "colab": {
      "provenance": [],
      "authorship_tag": "ABX9TyOSGMz/+eTYjcBW/4AxCpin",
      "include_colab_link": true
    },
    "kernelspec": {
      "name": "python3",
      "display_name": "Python 3"
    },
    "language_info": {
      "name": "python"
    },
    "accelerator": "GPU",
    "gpuClass": "standard"
  },
  "cells": [
    {
      "cell_type": "markdown",
      "metadata": {
        "id": "view-in-github",
        "colab_type": "text"
      },
      "source": [
        "<a href=\"https://colab.research.google.com/github/YJJasdasdasd/deeplearning/blob/master/LSTM%EC%9D%84_%EC%9D%B4%EC%9A%A9%ED%95%B4_%EB%A1%9C%EC%9D%B4%ED%84%B0_%EB%89%B4%EC%8A%A4_%EC%B9%B4%ED%85%8C%EA%B3%A0%EB%A6%AC_%EB%B6%84%EC%84%9D%ED%95%98%EA%B8%B0.ipynb\" target=\"_parent\"><img src=\"https://colab.research.google.com/assets/colab-badge.svg\" alt=\"Open In Colab\"/></a>"
      ]
    },
    {
      "cell_type": "code",
      "execution_count": 1,
      "metadata": {
        "id": "mdz3Obox0fZZ"
      },
      "outputs": [],
      "source": [
        "from tensorflow.keras.models import Sequential\n",
        "from tensorflow.keras.layers import Dense, LSTM, Embedding\n",
        "from tensorflow.keras.utils import to_categorical\n",
        "from tensorflow.keras.preprocessing import sequence\n",
        "from tensorflow.keras.datasets import reuters\n",
        "from tensorflow.keras.callbacks import EarlyStopping\n",
        "import pandas as pd\n",
        "import numpy as np\n",
        "import matplotlib.pyplot as plt\n"
      ]
    },
    {
      "cell_type": "code",
      "source": [
        "# 데이터를 불러와 학습셋, 테스트셋으로로 나눕니다다\n",
        "(x_train, y_train), (x_test, y_test) = reuters.load_data(num_words=1000, test_split=0.2)\n",
        "\n",
        "# 데이터를 확인해보겠습니다.\n",
        "category = np.max(y_train) + 1\n",
        "print(category, '카테고리')\n",
        "print(len(x_train), '학습용 뉴스 기사:')\n",
        "print(len(x_test), '테스트용 뉴스 기사')\n",
        "print(x_train[0])"
      ],
      "metadata": {
        "colab": {
          "base_uri": "https://localhost:8080/"
        },
        "id": "Yro1Snd-12VN",
        "outputId": "a7ce2901-c90a-4026-cd63-7fdbe57ee3e8"
      },
      "execution_count": 2,
      "outputs": [
        {
          "output_type": "stream",
          "name": "stdout",
          "text": [
            "46 카테고리\n",
            "8982 학습용 뉴스 기사:\n",
            "2246 테스트용 뉴스 기사\n",
            "[1, 2, 2, 8, 43, 10, 447, 5, 25, 207, 270, 5, 2, 111, 16, 369, 186, 90, 67, 7, 89, 5, 19, 102, 6, 19, 124, 15, 90, 67, 84, 22, 482, 26, 7, 48, 4, 49, 8, 864, 39, 209, 154, 6, 151, 6, 83, 11, 15, 22, 155, 11, 15, 7, 48, 9, 2, 2, 504, 6, 258, 6, 272, 11, 15, 22, 134, 44, 11, 15, 16, 8, 197, 2, 90, 67, 52, 29, 209, 30, 32, 132, 6, 109, 15, 17, 12]\n"
          ]
        }
      ]
    },
    {
      "cell_type": "code",
      "source": [
        "# 단어의 수를 맞추어 줍니다.\n",
        "x_train = sequence.pad_sequences(x_train, maxlen=100)\n",
        "x_test = sequence.pad_sequences(x_test, maxlen=100)"
      ],
      "metadata": {
        "id": "2GBv-UVs3Vzn"
      },
      "execution_count": 3,
      "outputs": []
    },
    {
      "cell_type": "code",
      "source": [
        "# 원-핫 인코딩 처리를 합니다.\n",
        "y_train = to_categorical(y_train)\n",
        "y_test = to_categorical(y_test)"
      ],
      "metadata": {
        "id": "cNZkB8SYEFxf"
      },
      "execution_count": 4,
      "outputs": []
    },
    {
      "cell_type": "code",
      "source": [
        "# 모델의 구조를 설정합니다.\n",
        "model = Sequential()\n",
        "model.add(Embedding(1000, 100))\n",
        "model.add(LSTM(100, activation='tanh'))\n",
        "model.add(Dense(46, activation='softmax'))"
      ],
      "metadata": {
        "id": "AIuJrgcTEX1h"
      },
      "execution_count": 5,
      "outputs": []
    },
    {
      "cell_type": "code",
      "source": [
        "# 모델의 실행 옵션을 정합니다.\n",
        "model.compile(loss='categorical_crossentropy', optimizer='adam', metrics=['accuracy'])"
      ],
      "metadata": {
        "id": "iuznLB24ExaO"
      },
      "execution_count": 6,
      "outputs": []
    },
    {
      "cell_type": "code",
      "source": [
        "# 학습의 조기 중단을 설정합니다.\n"
      ],
      "metadata": {
        "id": "H54jBBkTFFfN"
      },
      "execution_count": 7,
      "outputs": []
    },
    {
      "cell_type": "code",
      "source": [
        "# 모델을 실행합니다.\n",
        "history = model.fit(x_train, y_train, batch_size=20, epochs=200, validation_data=(x_test, y_test), callbacks=[stop])"
      ],
      "metadata": {
        "colab": {
          "base_uri": "https://localhost:8080/"
        },
        "id": "dQS2PhF7FJGe",
        "outputId": "e8bda7e9-6d61-47f9-8184-cb2c020a5908"
      },
      "execution_count": 8,
      "outputs": [
        {
          "output_type": "stream",
          "name": "stdout",
          "text": [
            "Epoch 1/200\n",
            "450/450 [==============================] - 11s 10ms/step - loss: 2.2543 - accuracy: 0.4205 - val_loss: 2.0379 - val_accuracy: 0.4524\n",
            "Epoch 2/200\n",
            "450/450 [==============================] - 4s 8ms/step - loss: 1.8499 - accuracy: 0.5206 - val_loss: 1.8224 - val_accuracy: 0.5329\n",
            "Epoch 3/200\n",
            "450/450 [==============================] - 4s 8ms/step - loss: 1.6596 - accuracy: 0.5737 - val_loss: 1.6195 - val_accuracy: 0.5864\n",
            "Epoch 4/200\n",
            "450/450 [==============================] - 4s 8ms/step - loss: 1.5300 - accuracy: 0.6039 - val_loss: 1.5535 - val_accuracy: 0.5966\n",
            "Epoch 5/200\n",
            "450/450 [==============================] - 4s 9ms/step - loss: 1.3675 - accuracy: 0.6554 - val_loss: 1.3663 - val_accuracy: 0.6527\n",
            "Epoch 6/200\n",
            "450/450 [==============================] - 4s 9ms/step - loss: 1.2298 - accuracy: 0.6919 - val_loss: 1.3305 - val_accuracy: 0.6683\n",
            "Epoch 7/200\n",
            "450/450 [==============================] - 4s 9ms/step - loss: 1.1210 - accuracy: 0.7185 - val_loss: 1.2196 - val_accuracy: 0.6870\n",
            "Epoch 8/200\n",
            "450/450 [==============================] - 4s 8ms/step - loss: 1.0213 - accuracy: 0.7417 - val_loss: 1.2200 - val_accuracy: 0.6937\n",
            "Epoch 9/200\n",
            "450/450 [==============================] - 4s 9ms/step - loss: 0.9420 - accuracy: 0.7635 - val_loss: 1.1584 - val_accuracy: 0.7088\n",
            "Epoch 10/200\n",
            "450/450 [==============================] - 4s 8ms/step - loss: 0.8736 - accuracy: 0.7813 - val_loss: 1.1144 - val_accuracy: 0.7150\n",
            "Epoch 11/200\n",
            "450/450 [==============================] - 5s 10ms/step - loss: 0.8087 - accuracy: 0.7980 - val_loss: 1.1188 - val_accuracy: 0.7177\n",
            "Epoch 12/200\n",
            "450/450 [==============================] - 4s 9ms/step - loss: 0.7421 - accuracy: 0.8171 - val_loss: 1.1480 - val_accuracy: 0.7204\n",
            "Epoch 13/200\n",
            "450/450 [==============================] - 4s 9ms/step - loss: 0.6921 - accuracy: 0.8274 - val_loss: 1.1504 - val_accuracy: 0.7231\n",
            "Epoch 14/200\n",
            "450/450 [==============================] - 4s 9ms/step - loss: 0.6403 - accuracy: 0.8422 - val_loss: 1.1482 - val_accuracy: 0.7293\n",
            "Epoch 15/200\n",
            "450/450 [==============================] - 5s 10ms/step - loss: 0.5926 - accuracy: 0.8508 - val_loss: 1.1812 - val_accuracy: 0.7257\n"
          ]
        }
      ]
    },
    {
      "cell_type": "code",
      "source": [
        "# 테스트 정확도를 출력합니다.\n",
        "print('\\n Test Accuracy: %.4f' % (model.evaluate(x_test, y_test)[1]))"
      ],
      "metadata": {
        "colab": {
          "base_uri": "https://localhost:8080/"
        },
        "id": "ko939RGPFq0a",
        "outputId": "3f7921d9-d650-40af-a428-15288d6793ba"
      },
      "execution_count": 9,
      "outputs": [
        {
          "output_type": "stream",
          "name": "stdout",
          "text": [
            "71/71 [==============================] - 0s 6ms/step - loss: 1.1812 - accuracy: 0.7257\n",
            "\n",
            " Test Accuracy: 0.7257\n"
          ]
        }
      ]
    },
    {
      "cell_type": "code",
      "source": [
        "# 검증셋과 학습셋의 오차를 저장합니다.\n",
        "y_vloss = history.history['val_loss']\n",
        "y_loss = history.history['loss']"
      ],
      "metadata": {
        "id": "cWVKCufJHOSR"
      },
      "execution_count": 10,
      "outputs": []
    },
    {
      "cell_type": "code",
      "source": [
        "# 그래프로 표현해 보겠습니다.\n",
        "x_len = np.arange(len(y_loss))\n",
        "plt.plot(x_len, y_vloss, marker = '.', c='red', label='Testset_loss')\n",
        "plt.plot(x_len, y_loss, marker='.', c = 'blue', label='Treainset_loss')\n",
        "# 그래프에 그리드를 주고 레이블을 표시하겠습니다.\n",
        "plt.legend(loc='upper right')\n",
        "plt.grid()\n",
        "plt.xlabel('epoch')\n",
        "plt.ylabel('loss')\n",
        "plt.show()"
      ],
      "metadata": {
        "colab": {
          "base_uri": "https://localhost:8080/",
          "height": 279
        },
        "id": "V63ReY8RG-wR",
        "outputId": "a4be5906-dc76-4625-cc7e-2f92317d0228"
      },
      "execution_count": 13,
      "outputs": [
        {
          "output_type": "display_data",
          "data": {
            "text/plain": [
              "<Figure size 432x288 with 1 Axes>"
            ],
            "image/png": "[encoded data removed]"
          },
          "metadata": {
            "needs_background": "light"
          }
        }
      ]
    }
  ]
}