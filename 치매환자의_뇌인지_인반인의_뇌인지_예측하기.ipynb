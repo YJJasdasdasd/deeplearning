{
  "nbformat": 4,
  "nbformat_minor": 0,
  "metadata": {
    "colab": {
      "provenance": [],
      "authorship_tag": "ABX9TyMyxlK14btoQSnY1RVrTy/b",
      "include_colab_link": true
    },
    "kernelspec": {
      "name": "python3",
      "display_name": "Python 3"
    },
    "language_info": {
      "name": "python"
    },
    "accelerator": "GPU",
    "gpuClass": "standard"
  },
  "cells": [
    {
      "cell_type": "markdown",
      "metadata": {
        "id": "view-in-github",
        "colab_type": "text"
      },
      "source": [
        "<a href=\"https://colab.research.google.com/github/YJJasdasdasd/deeplearning/blob/master/%EC%B9%98%EB%A7%A4%ED%99%98%EC%9E%90%EC%9D%98_%EB%87%8C%EC%9D%B8%EC%A7%80_%EC%9D%B8%EB%B0%98%EC%9D%B8%EC%9D%98_%EB%87%8C%EC%9D%B8%EC%A7%80_%EC%98%88%EC%B8%A1%ED%95%98%EA%B8%B0.ipynb\" target=\"_parent\"><img src=\"https://colab.research.google.com/assets/colab-badge.svg\" alt=\"Open In Colab\"/></a>"
      ]
    },
    {
      "cell_type": "code",
      "execution_count": 1,
      "metadata": {
        "id": "F6uTDjnVKn0a"
      },
      "outputs": [],
      "source": [
        "from tensorflow.keras.models import Sequential\n",
        "from tensorflow.keras.layers import Dense, Activation, Dropout, Flatten, Conv2D, MaxPooling2D\n",
        "from tensorflow.keras.preprocessing.image import ImageDataGenerator\n",
        "from tensorflow.keras.callbacks import EarlyStopping\n",
        "from tensorflow.keras import optimizers\n",
        "import numpy as np\n",
        "import matplotlib.pyplot as plt"
      ]
    },
    {
      "cell_type": "code",
      "source": [
        "!git clone https://github.com/taehojo/data-ch20.git"
      ],
      "metadata": {
        "colab": {
          "base_uri": "https://localhost:8080/"
        },
        "id": "1fBIa9ESSoBK",
        "outputId": "f3193201-65d7-461f-ad49-f8446b70cd5c"
      },
      "execution_count": 2,
      "outputs": [
        {
          "output_type": "stream",
          "name": "stdout",
          "text": [
            "Cloning into 'data-ch20'...\n",
            "remote: Enumerating objects: 265, done.\u001b[K\n",
            "remote: Counting objects: 100% (265/265), done.\u001b[K\n",
            "remote: Compressing objects: 100% (265/265), done.\u001b[K\n",
            "remote: Total 265 (delta 0), reused 265 (delta 0), pack-reused 0\u001b[K\n",
            "Receiving objects: 100% (265/265), 1.86 MiB | 19.65 MiB/s, done.\n"
          ]
        }
      ]
    },
    {
      "cell_type": "code",
      "source": [
        "train_datagen = ImageDataGenerator(rescale = 1/255,            # 주어진 이미지 크기를 설정\n",
        "                                   horizontal_flip=True,        # 수평 대칭 이미지를 50% 확률로 만들어 추가합니다.\n",
        "                                   width_shift_range = 0.1,     # 전체 크기의 15% 범위에서 좌우로 이동합니다.\n",
        "                                   height_shift_range = 0.1,    # 마찬가지로 위아래로 이동합니다.\n",
        "                                  #  rotation_range = 05,       # 정해진 각도만큼 회전시킵니다.\n",
        "                                  #  shear_range = 0.7,         # 좌표 하나를 고정시키고 나머지를 이동시킵니다.\n",
        "                                  #  zoom_range+[0.9, 2.2],     # 확대 또는 축소시킵니다.\n",
        "                                  #  vertical_flip = True,      # 수직 대칭 이미지를 만듭니다.\n",
        "                                  #  fill_mode = 'nearest'      # 빈 공간을 채우는 방법입니다.\n",
        "                                                                # nearest 옵션은 가장 비슷한 색으로 채우게 됩니다.\n",
        "                                   )"
      ],
      "metadata": {
        "id": "oeqQGd0mLoDN"
      },
      "execution_count": 3,
      "outputs": []
    },
    {
      "cell_type": "code",
      "source": [
        "train_generator = train_datagen.flow_from_directory(\n",
        "    './data-ch20/train',        # 학습셋이 있는 폴더의 위치입니다,\n",
        "    target_size = (150, 150),\n",
        "    batch_size = 5,\n",
        "    class_mode = 'binary'\n",
        ")"
      ],
      "metadata": {
        "colab": {
          "base_uri": "https://localhost:8080/"
        },
        "id": "aL9SuTYvOzML",
        "outputId": "515ea718-8f02-4ce3-ca34-b643fb22fa1c"
      },
      "execution_count": 4,
      "outputs": [
        {
          "output_type": "stream",
          "name": "stdout",
          "text": [
            "Found 160 images belonging to 2 classes.\n"
          ]
        }
      ]
    },
    {
      "cell_type": "code",
      "source": [
        "# 테스트셋은 이미지 부풀리기 과정을 진행하지않습니다.\n",
        "test_datagen = ImageDataGenerator(rescale = 1./255)"
      ],
      "metadata": {
        "id": "hf7cditfSkGR"
      },
      "execution_count": 5,
      "outputs": []
    },
    {
      "cell_type": "code",
      "source": [
        "test_generator = test_datagen.flow_from_directory(\n",
        "    './data-ch20/test',         # 테스트셋이 있는 폴더의 위치입니다.\n",
        "    target_size=(150, 150),\n",
        "    batch_size = 5,\n",
        "    class_mode = 'binary'\n",
        ")"
      ],
      "metadata": {
        "colab": {
          "base_uri": "https://localhost:8080/"
        },
        "id": "ihXzefCmTlMv",
        "outputId": "019677d6-6a0e-4995-e558-ebe5755bebd2"
      },
      "execution_count": 6,
      "outputs": [
        {
          "output_type": "stream",
          "name": "stdout",
          "text": [
            "Found 120 images belonging to 2 classes.\n"
          ]
        }
      ]
    },
    {
      "cell_type": "code",
      "source": [
        "# 앞에서 배운 cnn 모델을 만들어 적용해 보겄습니다.\n",
        "model = Sequential()\n",
        "model.add(Conv2D(32, (3, 3), input_shape = (150, 150, 3)))\n",
        "model.add(Activation('relu'))\n",
        "model.add(MaxPooling2D(pool_size = (2, 2)))\n",
        "\n",
        "model.add(Conv2D(32, (3, 3)))\n",
        "model.add(Activation('relu'))\n",
        "model.add(MaxPooling2D(pool_size = (2, 2)))\n",
        "\n",
        "model.add(Conv2D(32, (3, 3), input_shape = (150, 150, 3)))\n",
        "model.add(Activation('relu'))\n",
        "model.add(MaxPooling2D(pool_size = (2, 2)))\n",
        "\n",
        "model.add(Flatten())\n",
        "model.add(Dense(64))\n",
        "model.add(Activation('relu'))\n",
        "model.add(Dropout(0.5))\n",
        "model.add(Dense(1))\n",
        "model.add(Activation('sigmoid'))"
      ],
      "metadata": {
        "id": "MAi4W0K0USUu"
      },
      "execution_count": 7,
      "outputs": []
    },
    {
      "cell_type": "code",
      "source": [
        "# 모델 실행 옵션을 설정합니다.\n",
        "model.compile(loss= 'binary_crossentropy', optimizer=optimizers.Adam(\n",
        "    learning_rate=0.0002), metrics=['accuracy'])"
      ],
      "metadata": {
        "id": "V8iPWlCiVSMP"
      },
      "execution_count": 8,
      "outputs": []
    },
    {
      "cell_type": "code",
      "source": [
        "# 학습의 조기 중단을 설정합니다.\n",
        "early_stopping_callback = EarlyStopping(monitor = 'val_loss', patience = 5)"
      ],
      "metadata": {
        "id": "BBvUZAhcWQ1x"
      },
      "execution_count": 9,
      "outputs": []
    },
    {
      "cell_type": "code",
      "source": [
        "# 모델을 실행합니다.\n",
        "history = model.fit(\n",
        "    train_generator,\n",
        "    epochs=100,\n",
        "    validation_data = test_generator,\n",
        "    validation_steps = 10,\n",
        "    callbacks = [early_stopping_callback])"
      ],
      "metadata": {
        "colab": {
          "base_uri": "https://localhost:8080/"
        },
        "id": "_kvwsHsKWjeA",
        "outputId": "e7789e6f-9945-4a79-d72d-447c86048ba8"
      },
      "execution_count": 10,
      "outputs": [
        {
          "output_type": "stream",
          "name": "stdout",
          "text": [
            "Epoch 1/100\n",
            "32/32 [==============================] - 12s 40ms/step - loss: 0.6937 - accuracy: 0.5125 - val_loss: 0.6911 - val_accuracy: 0.5800\n",
            "Epoch 2/100\n",
            "32/32 [==============================] - 1s 35ms/step - loss: 0.6910 - accuracy: 0.5375 - val_loss: 0.6891 - val_accuracy: 0.4800\n",
            "Epoch 3/100\n",
            "32/32 [==============================] - 1s 36ms/step - loss: 0.6837 - accuracy: 0.5938 - val_loss: 0.6664 - val_accuracy: 0.5600\n",
            "Epoch 4/100\n",
            "32/32 [==============================] - 1s 33ms/step - loss: 0.6814 - accuracy: 0.5625 - val_loss: 0.6827 - val_accuracy: 0.5200\n",
            "Epoch 5/100\n",
            "32/32 [==============================] - 1s 33ms/step - loss: 0.6699 - accuracy: 0.6187 - val_loss: 0.6635 - val_accuracy: 0.6400\n",
            "Epoch 6/100\n",
            "32/32 [==============================] - 1s 34ms/step - loss: 0.6567 - accuracy: 0.6375 - val_loss: 0.6123 - val_accuracy: 0.5800\n",
            "Epoch 7/100\n",
            "32/32 [==============================] - 1s 34ms/step - loss: 0.6281 - accuracy: 0.6875 - val_loss: 0.5987 - val_accuracy: 0.7000\n",
            "Epoch 8/100\n",
            "32/32 [==============================] - 1s 35ms/step - loss: 0.5743 - accuracy: 0.7188 - val_loss: 0.5476 - val_accuracy: 0.6800\n",
            "Epoch 9/100\n",
            "32/32 [==============================] - 1s 34ms/step - loss: 0.5008 - accuracy: 0.7937 - val_loss: 0.4070 - val_accuracy: 0.8200\n",
            "Epoch 10/100\n",
            "32/32 [==============================] - 1s 34ms/step - loss: 0.5170 - accuracy: 0.7250 - val_loss: 0.4662 - val_accuracy: 0.8000\n",
            "Epoch 11/100\n",
            "32/32 [==============================] - 1s 35ms/step - loss: 0.4298 - accuracy: 0.8438 - val_loss: 0.3968 - val_accuracy: 0.8000\n",
            "Epoch 12/100\n",
            "32/32 [==============================] - 1s 36ms/step - loss: 0.4282 - accuracy: 0.8062 - val_loss: 0.3116 - val_accuracy: 0.9200\n",
            "Epoch 13/100\n",
            "32/32 [==============================] - 1s 34ms/step - loss: 0.4005 - accuracy: 0.8313 - val_loss: 0.4852 - val_accuracy: 0.7800\n",
            "Epoch 14/100\n",
            "32/32 [==============================] - 1s 34ms/step - loss: 0.3228 - accuracy: 0.8750 - val_loss: 0.2732 - val_accuracy: 0.8800\n",
            "Epoch 15/100\n",
            "32/32 [==============================] - 1s 37ms/step - loss: 0.2866 - accuracy: 0.9062 - val_loss: 0.2258 - val_accuracy: 0.9600\n",
            "Epoch 16/100\n",
            "32/32 [==============================] - 1s 35ms/step - loss: 0.2606 - accuracy: 0.9375 - val_loss: 0.2149 - val_accuracy: 0.9400\n",
            "Epoch 17/100\n",
            "32/32 [==============================] - 1s 34ms/step - loss: 0.2631 - accuracy: 0.9125 - val_loss: 0.1850 - val_accuracy: 0.9400\n",
            "Epoch 18/100\n",
            "32/32 [==============================] - 1s 34ms/step - loss: 0.2096 - accuracy: 0.9312 - val_loss: 0.1378 - val_accuracy: 0.9400\n",
            "Epoch 19/100\n",
            "32/32 [==============================] - 1s 34ms/step - loss: 0.1912 - accuracy: 0.9250 - val_loss: 0.1276 - val_accuracy: 0.9600\n",
            "Epoch 20/100\n",
            "32/32 [==============================] - 1s 34ms/step - loss: 0.2048 - accuracy: 0.9187 - val_loss: 0.1804 - val_accuracy: 0.9200\n",
            "Epoch 21/100\n",
            "32/32 [==============================] - 1s 34ms/step - loss: 0.2197 - accuracy: 0.9125 - val_loss: 0.1230 - val_accuracy: 0.9600\n",
            "Epoch 22/100\n",
            "32/32 [==============================] - 1s 35ms/step - loss: 0.1873 - accuracy: 0.9312 - val_loss: 0.1155 - val_accuracy: 0.9600\n",
            "Epoch 23/100\n",
            "32/32 [==============================] - 1s 35ms/step - loss: 0.1333 - accuracy: 0.9688 - val_loss: 0.1087 - val_accuracy: 0.9800\n",
            "Epoch 24/100\n",
            "32/32 [==============================] - 1s 34ms/step - loss: 0.1371 - accuracy: 0.9625 - val_loss: 0.1254 - val_accuracy: 0.9400\n",
            "Epoch 25/100\n",
            "32/32 [==============================] - 1s 34ms/step - loss: 0.1289 - accuracy: 0.9563 - val_loss: 0.2063 - val_accuracy: 0.9000\n",
            "Epoch 26/100\n",
            "32/32 [==============================] - 1s 33ms/step - loss: 0.1305 - accuracy: 0.9750 - val_loss: 0.0426 - val_accuracy: 1.0000\n",
            "Epoch 27/100\n",
            "32/32 [==============================] - 1s 34ms/step - loss: 0.1090 - accuracy: 0.9750 - val_loss: 0.1751 - val_accuracy: 0.9000\n",
            "Epoch 28/100\n",
            "32/32 [==============================] - 1s 35ms/step - loss: 0.1060 - accuracy: 0.9625 - val_loss: 0.0619 - val_accuracy: 1.0000\n",
            "Epoch 29/100\n",
            "32/32 [==============================] - 1s 35ms/step - loss: 0.1368 - accuracy: 0.9500 - val_loss: 0.2247 - val_accuracy: 0.9000\n",
            "Epoch 30/100\n",
            "32/32 [==============================] - 1s 35ms/step - loss: 0.1257 - accuracy: 0.9563 - val_loss: 0.1174 - val_accuracy: 0.9600\n",
            "Epoch 31/100\n",
            "32/32 [==============================] - 1s 36ms/step - loss: 0.1138 - accuracy: 0.9625 - val_loss: 0.0495 - val_accuracy: 1.0000\n"
          ]
        }
      ]
    },
    {
      "cell_type": "code",
      "source": [
        "# 검증셋과 학습셋의 오차를 저장합니다.\n",
        "y_vloss = history.history['val_loss']\n",
        "y_loss = history.history['loss']"
      ],
      "metadata": {
        "id": "X-McRfVoW-2P"
      },
      "execution_count": 11,
      "outputs": []
    },
    {
      "cell_type": "code",
      "source": [
        "#그래프로 표현해 봅니다.\n",
        "x_len = np.arange(len(y_loss))\n",
        "plt.plot(x_len, y_vloss, marker = '.', c = 'red', label = 'Testset_loss')\n",
        "plt.plot(x_len, y_loss, marker = '.', c = 'blue', label = 'Trainset_loss')\n",
        "\n",
        "# 그래프에 그리드를 주고 레이블을 표시하겠습니다.\n",
        "plt.legend(loc = 'upper right')\n",
        "plt.grid()\n",
        "plt.xlabel('epoch')\n",
        "plt.ylabel('loss')\n",
        "plt.show()"
      ],
      "metadata": {
        "colab": {
          "base_uri": "https://localhost:8080/",
          "height": 279
        },
        "id": "qpCoFzJGYAPg",
        "outputId": "ed960ef6-00fc-4e23-9662-a4175789c259"
      },
      "execution_count": 12,
      "outputs": [
        {
          "output_type": "display_data",
          "data": {
            "text/plain": [
              "<Figure size 432x288 with 1 Axes>"
            ],
            "image/png": "[encoded data removed]"
          },
          "metadata": {
            "needs_background": "light"
          }
        }
      ]
    }
  ]
}