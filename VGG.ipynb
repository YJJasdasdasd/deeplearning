{
  "nbformat": 4,
  "nbformat_minor": 0,
  "metadata": {
    "colab": {
      "provenance": [],
      "authorship_tag": "ABX9TyMg1r4mDYl/AVU9N6Fg9WSk",
      "include_colab_link": true
    },
    "kernelspec": {
      "name": "python3",
      "display_name": "Python 3"
    },
    "language_info": {
      "name": "python"
    }
  },
  "cells": [
    {
      "cell_type": "markdown",
      "metadata": {
        "id": "view-in-github",
        "colab_type": "text"
      },
      "source": [
        "<a href=\"https://colab.research.google.com/github/YJJasdasdasd/deeplearning/blob/master/VGG.ipynb\" target=\"_parent\"><img src=\"https://colab.research.google.com/assets/colab-badge.svg\" alt=\"Open In Colab\"/></a>"
      ]
    },
    {
      "cell_type": "code",
      "execution_count": 35,
      "metadata": {
        "id": "T7DEWAlyIzhS"
      },
      "outputs": [],
      "source": [
        "from tensorflow.keras.preprocessing.image import ImageDataGenerator\n",
        "from tensorflow.keras import Input, models, layers, optimizers, metrics\n",
        "from tensorflow.keras.layers import Dense, Flatten, Activation, Dropout\n",
        "from tensorflow.keras.applications import VGG16\n",
        "from tensorflow.keras.callbacks import EarlyStopping\n",
        "import numpy as np\n",
        "import matplotlib.pyplot as plt"
      ]
    },
    {
      "cell_type": "code",
      "source": [
        "# 깃허브에서  준비된 데이터 가져오기기\n",
        "!git clone https://github.com/taehojo/data-ch20.git"
      ],
      "metadata": {
        "colab": {
          "base_uri": "https://localhost:8080/"
        },
        "id": "z6xQ36YgbqQa",
        "outputId": "2c210fdf-a94a-42e3-f8ef-c42fa2f5eace"
      },
      "execution_count": 36,
      "outputs": [
        {
          "output_type": "stream",
          "name": "stdout",
          "text": [
            "fatal: destination path 'data-ch20' already exists and is not an empty directory.\n"
          ]
        }
      ]
    },
    {
      "cell_type": "code",
      "source": [
        "# 학습셋의 변형을 설정\n",
        "train_datagen = ImageDataGenerator(rescale=1./255, \n",
        "                                   horizontal_flip=True,     \n",
        "                                   width_shift_range=0.1,    \n",
        "                                   height_shift_range=0.1,   \n",
        "                                   ) \n",
        "          \n",
        "train_generator = train_datagen.flow_from_directory(\n",
        "    './data-ch20/train',\n",
        "    target_size=(150,150),\n",
        "    batch_size=5,\n",
        "    class_mode='binary')\n"
      ],
      "metadata": {
        "colab": {
          "base_uri": "https://localhost:8080/"
        },
        "id": "oV4ciBetb0WS",
        "outputId": "912a50ad-b5cb-43e7-f7b5-fefe5f1d1536"
      },
      "execution_count": 37,
      "outputs": [
        {
          "output_type": "stream",
          "name": "stdout",
          "text": [
            "Found 160 images belonging to 2 classes.\n"
          ]
        }
      ]
    },
    {
      "cell_type": "code",
      "source": [
        "# 테스트셋의 정규화를 설정합니다.\n",
        "test_datagen = ImageDataGenerator(rescale = 1./255)\n",
        "\n",
        "test_generator = test_datagen.flow_from_directory(\n",
        "    './data-ch20/test',\n",
        "    target_size = (150,150),\n",
        "    batch_size = 5,\n",
        "    class_mode = 'binary'\n",
        ")"
      ],
      "metadata": {
        "colab": {
          "base_uri": "https://localhost:8080/"
        },
        "id": "aPR2dqvYcU-P",
        "outputId": "42778c13-9583-4046-e12b-ca12112416c7"
      },
      "execution_count": 38,
      "outputs": [
        {
          "output_type": "stream",
          "name": "stdout",
          "text": [
            "Found 120 images belonging to 2 classes.\n"
          ]
        }
      ]
    },
    {
      "cell_type": "code",
      "source": [
        "# VGG16 모델을 불러옵니다.\n",
        "transfer_model = VGG16(weights='imagenet', include_top=False, input_shape=(150,150,3))\n",
        "transfer_model.trainable = False"
      ],
      "metadata": {
        "id": "6PD5YBcLeEQV"
      },
      "execution_count": 39,
      "outputs": []
    },
    {
      "cell_type": "code",
      "source": [
        "# 우리의 모델을 설정합니다.\n",
        "finetune_model = models.Sequential()\n",
        "finetune_model.add(transfer_model)\n",
        "finetune_model.add(Flatten())\n",
        "finetune_model.add(Dense(64))\n",
        "finetune_model.add(Activation('relu'))\n",
        "finetune_model.add(Dropout(0.5))\n",
        "finetune_model.add(Dense(1))\n",
        "finetune_model.add(Activation('sigmoid'))\n",
        "finetune_model.summary()"
      ],
      "metadata": {
        "colab": {
          "base_uri": "https://localhost:8080/"
        },
        "id": "bi5STZy3egST",
        "outputId": "20a93312-d438-49c1-abd9-00a610413aa2"
      },
      "execution_count": 41,
      "outputs": [
        {
          "output_type": "stream",
          "name": "stdout",
          "text": [
            "Model: \"sequential_5\"\n",
            "_________________________________________________________________\n",
            " Layer (type)                Output Shape              Param #   \n",
            "=================================================================\n",
            " vgg16 (Functional)          (None, 4, 4, 512)         14714688  \n",
            "                                                                 \n",
            " flatten_5 (Flatten)         (None, 8192)              0         \n",
            "                                                                 \n",
            " dense_5 (Dense)             (None, 64)                524352    \n",
            "                                                                 \n",
            " activation_8 (Activation)   (None, 64)                0         \n",
            "                                                                 \n",
            " dropout_5 (Dropout)         (None, 64)                0         \n",
            "                                                                 \n",
            " dense_6 (Dense)             (None, 1)                 65        \n",
            "                                                                 \n",
            " activation_9 (Activation)   (None, 1)                 0         \n",
            "                                                                 \n",
            "=================================================================\n",
            "Total params: 15,239,105\n",
            "Trainable params: 524,417\n",
            "Non-trainable params: 14,714,688\n",
            "_________________________________________________________________\n"
          ]
        }
      ]
    },
    {
      "cell_type": "code",
      "source": [
        "# 모델의 실행 옵션을 설정합니다.\n",
        "finetune_model.compile(loss='binary_crossentropy', \n",
        "                       optimizer=optimizers.Adam(learning_rate=0.0002),\n",
        "                       metrics=['accuracy'])"
      ],
      "metadata": {
        "id": "7qq8IoRJfPI6"
      },
      "execution_count": 42,
      "outputs": []
    },
    {
      "cell_type": "code",
      "source": [
        "# 학습의 조기 중단을 설정합니다.\n",
        "early_stopping_callback = EarlyStopping(monitor = 'val_loss', patience=5)"
      ],
      "metadata": {
        "id": "OZQ7Z9yvfvVE"
      },
      "execution_count": 43,
      "outputs": []
    },
    {
      "cell_type": "code",
      "source": [
        "# 모델을 실햅합니다.\n",
        "history = finetune_model.fit(\n",
        "       train_generator,\n",
        "       epochs=20,\n",
        "       validation_data=test_generator,\n",
        "       validation_steps=10, \n",
        "       callbacks=[early_stopping_callback])"
      ],
      "metadata": {
        "colab": {
          "base_uri": "https://localhost:8080/"
        },
        "id": "m7UMMg73f_4Q",
        "outputId": "06643832-7f5e-4245-b5a2-7dc1c892e2f0"
      },
      "execution_count": 44,
      "outputs": [
        {
          "output_type": "stream",
          "name": "stdout",
          "text": [
            "Epoch 1/20\n",
            "32/32 [==============================] - 52s 2s/step - loss: 0.7236 - accuracy: 0.5063 - val_loss: 0.5512 - val_accuracy: 0.8400\n",
            "Epoch 2/20\n",
            "32/32 [==============================] - 80s 3s/step - loss: 0.5374 - accuracy: 0.7375 - val_loss: 0.4965 - val_accuracy: 0.8200\n",
            "Epoch 3/20\n",
            "32/32 [==============================] - 67s 2s/step - loss: 0.4916 - accuracy: 0.7750 - val_loss: 0.3392 - val_accuracy: 0.9800\n",
            "Epoch 4/20\n",
            "32/32 [==============================] - 75s 2s/step - loss: 0.4213 - accuracy: 0.8625 - val_loss: 0.3547 - val_accuracy: 0.9200\n",
            "Epoch 5/20\n",
            "32/32 [==============================] - 48s 2s/step - loss: 0.3593 - accuracy: 0.8625 - val_loss: 0.3761 - val_accuracy: 0.9200\n",
            "Epoch 6/20\n",
            "32/32 [==============================] - 50s 2s/step - loss: 0.3274 - accuracy: 0.8938 - val_loss: 0.2997 - val_accuracy: 0.8600\n",
            "Epoch 7/20\n",
            "32/32 [==============================] - 48s 2s/step - loss: 0.3107 - accuracy: 0.8625 - val_loss: 0.2836 - val_accuracy: 0.8800\n",
            "Epoch 8/20\n",
            "32/32 [==============================] - 48s 2s/step - loss: 0.2964 - accuracy: 0.9312 - val_loss: 0.2546 - val_accuracy: 0.9000\n",
            "Epoch 9/20\n",
            "32/32 [==============================] - 48s 2s/step - loss: 0.2764 - accuracy: 0.9187 - val_loss: 0.2700 - val_accuracy: 0.9200\n",
            "Epoch 10/20\n",
            "32/32 [==============================] - 49s 2s/step - loss: 0.2097 - accuracy: 0.9500 - val_loss: 0.2603 - val_accuracy: 0.8800\n",
            "Epoch 11/20\n",
            "32/32 [==============================] - 48s 2s/step - loss: 0.2351 - accuracy: 0.9187 - val_loss: 0.2392 - val_accuracy: 0.9000\n",
            "Epoch 12/20\n",
            "32/32 [==============================] - 48s 2s/step - loss: 0.2101 - accuracy: 0.9438 - val_loss: 0.2369 - val_accuracy: 0.9200\n",
            "Epoch 13/20\n",
            "32/32 [==============================] - 48s 2s/step - loss: 0.2010 - accuracy: 0.9563 - val_loss: 0.2003 - val_accuracy: 0.9800\n",
            "Epoch 14/20\n",
            "32/32 [==============================] - 49s 2s/step - loss: 0.1775 - accuracy: 0.9375 - val_loss: 0.1582 - val_accuracy: 0.9600\n",
            "Epoch 15/20\n",
            "32/32 [==============================] - 48s 2s/step - loss: 0.1982 - accuracy: 0.9250 - val_loss: 0.1672 - val_accuracy: 0.9600\n",
            "Epoch 16/20\n",
            "32/32 [==============================] - 48s 2s/step - loss: 0.1737 - accuracy: 0.9438 - val_loss: 0.2465 - val_accuracy: 0.9000\n",
            "Epoch 17/20\n",
            "32/32 [==============================] - 48s 2s/step - loss: 0.1716 - accuracy: 0.9375 - val_loss: 0.2344 - val_accuracy: 0.8800\n",
            "Epoch 18/20\n",
            "32/32 [==============================] - 49s 2s/step - loss: 0.1650 - accuracy: 0.9563 - val_loss: 0.1451 - val_accuracy: 0.9600\n",
            "Epoch 19/20\n",
            "32/32 [==============================] - 48s 2s/step - loss: 0.1720 - accuracy: 0.9438 - val_loss: 0.2547 - val_accuracy: 0.8800\n",
            "Epoch 20/20\n",
            "32/32 [==============================] - 48s 2s/step - loss: 0.1360 - accuracy: 0.9688 - val_loss: 0.1982 - val_accuracy: 0.9400\n"
          ]
        }
      ]
    },
    {
      "cell_type": "code",
      "source": [
        "# 검증셋과 학습셋의 오차를 저장합니다.\n",
        "y_vloss = history.history['val_loss']\n",
        "y_loss = history.history['loss']"
      ],
      "metadata": {
        "id": "OxQds21hgY7u"
      },
      "execution_count": 47,
      "outputs": []
    },
    {
      "cell_type": "code",
      "source": [
        "# 그래프로 표현해 봅니다.\n",
        "x_len = np.arange(len(y_loss))\n",
        "plt.plot(x_len, y_vloss, marker='.', c='red', label = 'Testset_loss')\n",
        "plt.plot(x_len, y_loss, marker='.', c='blue', label = 'Trainset_loss')\n",
        "\n",
        "# 그래프에 그리드를 주고 레이블을 표시하겠습니다.\n",
        "plt.legend(loc='upper right')\n",
        "plt.grid()\n",
        "plt.xlabel('epoch')\n",
        "plt.ylabel('loss')\n",
        "plt.show()"
      ],
      "metadata": {
        "colab": {
          "base_uri": "https://localhost:8080/",
          "height": 279
        },
        "id": "dqMU99OVmp-v",
        "outputId": "58df7eab-3348-4675-f83f-8ba77a6d4899"
      },
      "execution_count": 48,
      "outputs": [
        {
          "output_type": "display_data",
          "data": {
            "text/plain": [
              "<Figure size 432x288 with 1 Axes>"
            ],
            "image/png": "[encoded data removed]"
          },
          "metadata": {
            "needs_background": "light"
          }
        }
      ]
    },
    {
      "cell_type": "code",
      "source": [],
      "metadata": {
        "id": "QSW_saTDryz5"
      },
      "execution_count": null,
      "outputs": []
    }
  ]
}